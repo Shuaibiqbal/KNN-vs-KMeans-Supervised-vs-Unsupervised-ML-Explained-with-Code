{
 "cells": [
  {
   "cell_type": "code",
   "execution_count": 10,
   "metadata": {},
   "outputs": [],
   "source": [
    "import pandas as pd \n",
    "from sklearn.model_selection import train_test_split\n",
    "from sklearn.preprocessing import StandardScaler\n",
    "from sklearn.neighbors import KNeighborsClassifier\n",
    "from sklearn.cluster import KMeans\n",
    "from sklearn.metrics import accuracy_score, adjusted_rand_score\n",
    "import numpy as np \n",
    "from sklearn.datasets import load_digits"
   ]
  },
  {
   "cell_type": "code",
   "execution_count": 2,
   "metadata": {},
   "outputs": [],
   "source": [
    "data = load_digits()"
   ]
  },
  {
   "cell_type": "code",
   "execution_count": 3,
   "metadata": {},
   "outputs": [],
   "source": [
    "X,y = data.data, data.target"
   ]
  },
  {
   "cell_type": "code",
   "execution_count": 4,
   "metadata": {},
   "outputs": [],
   "source": [
    "X_train, X_test, y_train, y_test = train_test_split(X,y, test_size=0.2, random_state=42)"
   ]
  },
  {
   "cell_type": "markdown",
   "metadata": {},
   "source": [
    "# ✅ k-NN Classification"
   ]
  },
  {
   "cell_type": "code",
   "execution_count": 5,
   "metadata": {},
   "outputs": [
    {
     "name": "stdout",
     "output_type": "stream",
     "text": [
      "✅ k-NN Classification Accuracy: 0.9861111111111112\n"
     ]
    }
   ],
   "source": [
    "knn_model = KNeighborsClassifier()\n",
    "knn_model.fit(X_train, y_train)\n",
    "y_pred_knn = knn_model.predict(X_test)\n",
    "\n",
    "knn_accuracy_score = accuracy_score(y_test, y_pred_knn)\n",
    "print(f\"✅ k-NN Classification Accuracy: {knn_accuracy_score}\")"
   ]
  },
  {
   "cell_type": "markdown",
   "metadata": {},
   "source": [
    "# 📍 k-Means Clustering"
   ]
  },
  {
   "cell_type": "code",
   "execution_count": 17,
   "metadata": {},
   "outputs": [
    {
     "name": "stdout",
     "output_type": "stream",
     "text": [
      "📍 k-Means Clustering Adjusted Rand Index (ARI): 0.4651\n"
     ]
    }
   ],
   "source": [
    "# Standardize features for clustering\n",
    "scaler = StandardScaler()\n",
    "X_scaled = scaler.fit_transform(X_train)\n",
    "\n",
    "# Fit k-Means on training data\n",
    "kmeans = KMeans(n_clusters=10, random_state=42, n_init=10)\n",
    "kmeans.fit(X_scaled)\n",
    "\n",
    "# Cluster labels\n",
    "y_pred_kmeans = kmeans.labels_\n",
    "\n",
    "# Evaluate clustering with ARI\n",
    "kmeans_ari = adjusted_rand_score(y_train, y_pred_kmeans)\n",
    "\n",
    "print(f\"📍 k-Means Clustering Adjusted Rand Index (ARI): {kmeans_ari:.4f}\")"
   ]
  },
  {
   "cell_type": "markdown",
   "metadata": {},
   "source": [
    "### ✅ k-NN vs 📍 k-Means – Comparison\n",
    "\n",
    "**Feature\tk-NN (k-Nearest Neighbors)\t--> k-Means Clustering**\n",
    "\n",
    "* Type\t    Supervised Learning\t        --> Unsupervised Learning\n",
    "* Uses Labels?\t✅ Yes\t                    ❌ No\n",
    "* Goal\tClassify data\t                    Group data into clusters\n",
    "* Accuracy Metric\tAccuracy Score\t        Adjusted Rand Index (ARI)\n",
    "* Result\t✅ 0.9861 Accuracy\t            📍 0.4651 ARI\n",
    "\n",
    "**🔍 Conclusion:**\n",
    "k-NN outperforms k-Means in classification tasks due to its use of labeled data, while k-Means is better suited for exploratory data analysis or clustering when labels are unknown."
   ]
  },
  {
   "cell_type": "markdown",
   "metadata": {},
   "source": []
  }
 ],
 "metadata": {
  "kernelspec": {
   "display_name": "myenv",
   "language": "python",
   "name": "python3"
  },
  "language_info": {
   "codemirror_mode": {
    "name": "ipython",
    "version": 3
   },
   "file_extension": ".py",
   "mimetype": "text/x-python",
   "name": "python",
   "nbconvert_exporter": "python",
   "pygments_lexer": "ipython3",
   "version": "3.10.13"
  }
 },
 "nbformat": 4,
 "nbformat_minor": 2
}
